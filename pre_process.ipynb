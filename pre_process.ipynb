{
 "cells": [
  {
   "cell_type": "code",
   "execution_count": 33,
   "metadata": {},
   "outputs": [],
   "source": [
    "import torch"
   ]
  },
  {
   "cell_type": "code",
   "execution_count": null,
   "metadata": {},
   "outputs": [],
   "source": [
    "tr_gemma2_embeddings = torch.load('tr_gemma2_embeddings.pt')\n",
    "print(tr_gemma2_embeddings.shape)"
   ]
  },
  {
   "cell_type": "code",
   "execution_count": 35,
   "metadata": {},
   "outputs": [],
   "source": [
    "# save embbedings split to 6 parts so that we can push to github\n",
    "for i in range(6):\n",
    "    torch.save(tr_gemma2_embeddings[i * 5100:(i + 1) * 5100], f'tr_gemma2_embeddings_{i}.pt')\n"
   ]
  },
  {
   "cell_type": "code",
   "execution_count": 37,
   "metadata": {},
   "outputs": [
    {
     "name": "stderr",
     "output_type": "stream",
     "text": [
      "/var/folders/gs/crm1zcvj00j1kl0l1lvz4qf40000gn/T/ipykernel_10522/2702517850.py:4: FutureWarning: You are using `torch.load` with `weights_only=False` (the current default value), which uses the default pickle module implicitly. It is possible to construct malicious pickle data which will execute arbitrary code during unpickling (See https://github.com/pytorch/pytorch/blob/main/SECURITY.md#untrusted-models for more details). In a future release, the default value for `weights_only` will be flipped to `True`. This limits the functions that could be executed during unpickling. Arbitrary objects will no longer be allowed to be loaded via this mode unless they are explicitly allowlisted by the user via `torch.serialization.add_safe_globals`. We recommend you start setting `weights_only=True` for any use case where you don't have full control of the loaded file. Please open an issue on GitHub for any issues related to this experimental feature.\n",
      "  tr_embeddings.append(torch.load(f'tr_gemma2_embeddings_{i}.pt'))\n"
     ]
    },
    {
     "name": "stdout",
     "output_type": "stream",
     "text": [
      "torch.Size([30158, 2304])\n"
     ]
    }
   ],
   "source": [
    "tr_embeddings = []\n",
    "\n",
    "for i in range(6):\n",
    "    tr_embeddings.append(torch.load(f'tr_gemma2_embeddings_{i}.pt'))\n",
    "\n",
    "tr_embeddings = torch.cat(tr_embeddings)\n",
    "\n",
    "print(tr_embeddings.shape)"
   ]
  },
  {
   "cell_type": "code",
   "execution_count": 38,
   "metadata": {},
   "outputs": [
    {
     "name": "stdout",
     "output_type": "stream",
     "text": [
      "Index(['doctor_title', 'doctor_speciality', 'question_content',\n",
      "       'question_answer'],\n",
      "      dtype='object')\n"
     ]
    }
   ],
   "source": [
    "from datasets import load_dataset\n",
    "\n",
    "ds = load_dataset(\"alibayram/doktorsitesi\")\n",
    "df = ds['train'].to_pandas()\n",
    "print(df.columns)"
   ]
  },
  {
   "cell_type": "code",
   "execution_count": 39,
   "metadata": {},
   "outputs": [
    {
     "name": "stdout",
     "output_type": "stream",
     "text": [
      "['Dr. Öğr. Üyesi' 'Uzm. Dr.' 'Op. Dr.' 'Dyt.' 'Yrd. Doç. Dr.' 'Doç. Dr.'\n",
      " 'Prof. Dr.' 'Dr.' 'Uzm. Kl. Psk.' 'Dt.' 'Dr.Öğr.Üyesi' 'Prof. Dr. Dt.'\n",
      " 'Veteriner Hekim' 'Uzm. Psk.' 'Psk.' 'Dr. Dt.' 'Vet.' 'Fzt.' 'Uzm. Dyt.'\n",
      " 'Uzm. Psk. Dan.' 'Psk. Dan.' 'Uzm. Dr. Dt.' 'Psikoterapist'\n",
      " 'Ergoterapist' 'Doç. Dr. Dt.' 'Uzm. Dt.' 'Çocuk Gelişim Uzmanı'\n",
      " 'Dr. Psk. Dan.' 'Dr. Öğr. Üyesi Dt.' 'Dil ve Konuşma Terapisti'\n",
      " 'Dr. Psk.' 'Doç. Dr. Psk. Dan' 'Aile Danışmanı' 'Pedagog'\n",
      " 'Klinik Psikolog ' 'Dr. Dyt. ']\n"
     ]
    }
   ],
   "source": [
    "print(df['doctor_title'].unique())"
   ]
  },
  {
   "cell_type": "code",
   "execution_count": 40,
   "metadata": {},
   "outputs": [
    {
     "name": "stdout",
     "output_type": "stream",
     "text": [
      "['ortopedi-ve-travmatoloji' 'dermatoloji'\n",
      " 'ortopedi-ve-travmatoloji-el-cerrahisi-ve-mikrocerrahi'\n",
      " 'genel-cerrahi-proktoloji'\n",
      " 'kadin-hastaliklari-ve-dogum-jinekolojik-onkoloji' 'diyetisyen'\n",
      " 'kadin-hastaliklari-ve-dogum-ureme-endokrinolojisi-ve-infertilite'\n",
      " 'fiziksel-tip-ve-rehabilitasyon' 'beyin-ve-sinir-cerrahisi' 'uroloji'\n",
      " 'kadin-hastaliklari-ve-dogum' 'genel-cerrahi'\n",
      " 'dahiliye-ve-ic-hastaliklari-endokrinoloji-ve-metabolizma-hastaliklari'\n",
      " 'dahiliye-ve-ic-hastaliklari-gastroenteroloji' 'goz-hastaliklari'\n",
      " 'medikal-estetik-sertifikali-tip-doktoru'\n",
      " 'cocuk-sagligi-ve-hastaliklari-cocuk-norolojisi' 'cocuk-psikiyatrisi'\n",
      " 'plastik-rekonstruktif-ve-estetik-cerrahi' 'psikoloji'\n",
      " 'cocuk-sagligi-ve-hastaliklari-cocuk-immunolojisi-ve-alerji-hastaliklari'\n",
      " 'aile-hekimligi'\n",
      " 'fiziksel-tip-ve-rehabilitasyon-fiziksel-tip-ve-rehabilitasyon-algoloji'\n",
      " 'acil-tip' 'cocuk-sagligi-ve-hastaliklari-cocuk-hematoloji'\n",
      " 'dahiliye-ve-ic-hastaliklari-nefroloji' 'kardiyoloji' 'dis-hekimi'\n",
      " 'gogus-cerrahisi' 'cocuk-sagligi-ve-hastaliklari-cocuk-endokrinoloji'\n",
      " 'uroloji-androloji' 'tibbi-genetik' 'gogus-hastaliklari'\n",
      " 'kulak-burun-bogaz-hastaliklari' 'tibbi-farmakoloji'\n",
      " 'dis-hekimi-pedodonti' 'cocuk-sagligi-ve-hastaliklari'\n",
      " 'anestezi-ve-reanimasyon-algoloji-anestezi-ve-reanimasyon'\n",
      " 'kadin-hastaliklari-ve-dogum-perinatoloji' 'pratisyen-hekimlik'\n",
      " 'cocuk-sagligi-ve-hastaliklari-cocuk-gogus-hastaliklari' 'veteriner'\n",
      " 'enfeksiyon-hastaliklari-ve-klinik-mikrobiyoloji' 'kalp-damar-cerrahisi'\n",
      " 'tibbi-biyokimya' 'psikiyatri' 'genel-cerrahi-cerrahi-onkoloji'\n",
      " 'noroloji' 'dis-hekimi-ortodonti' 'geleneksel-ve-tamamlayici-tip'\n",
      " 'dahiliye-ve-ic-hastaliklari-immunoloji-ve-alerji-hastaliklari'\n",
      " 'romatoloji-dahiliye-ve-ic-hastaliklari'\n",
      " 'cocuk-sagligi-ve-hastaliklari-cocuk-kardiyolojisi'\n",
      " 'noroloji-klinik-norofizyoloji' 'dahiliye-ve-ic-hastaliklari-immunoloji'\n",
      " 'radyoloji' 'dahiliye-ve-ic-hastaliklari' 'akupunktur'\n",
      " 'dis-hekimi-agiz-dis-ve-cene-cerrahisi' 'noroloji-noroloji-algoloji'\n",
      " 'tibbi-patoloji'\n",
      " 'cocuk-sagligi-ve-hastaliklari-cocuk-enfeksiyon-hastaliklari'\n",
      " 'cocuk-cerrahisi' 'cocuk-cerrahisi-cocuk-cerrahisi-cocuk-urolojisi'\n",
      " 'tibbi-onkoloji-dahiliye-ve-ic-hastaliklari' 'fizyoterapi'\n",
      " 'cocuk-sagligi-ve-hastaliklari-neonatoloji'\n",
      " 'cocuk-cerrahisi-cocuk-cerrahisi-cocuk-urolojisi-cocuk-urolojisi-uroloji'\n",
      " 'radyasyon-onkolojisi' 'dis-hekimi-oral-implantoloji' 'algoloji'\n",
      " 'psikolojik-danisman' 'dis-hekimi-periodontoloji' 'spor-hekimligi'\n",
      " 'plastik-rekonstruktif-ve-estetik-cerrahi-el-cerrahisi-ve-mikrocerrahi-plastik'\n",
      " 'cocuk-sagligi-ve-hastaliklari-cocuk-nefrolojisi'\n",
      " 'anestezi-ve-reanimasyon' 'psikoloji-aile-danismani-psikolog'\n",
      " 'genel-cerrahi-endokrin-cerrahisi' 'dahiliye-ve-ic-hastaliklari-geriatri'\n",
      " 'dis-hekimi-dis-protezi-uzmani' 'anatomi' 'nukleer-tip'\n",
      " 'klinik-psikolog-psikoloji-aile-danismani-psikolog' 'pedodonti'\n",
      " 'gastroenteroloji' 'ergoterapi' 'cocuk-gelisim-uzmani'\n",
      " 'psikolojik-danisman-psikoloji' 'radyoloji-girisimsel-radyoloji'\n",
      " 'cocuk-sagligi-ve-hastaliklari-cocuk-genetik-hastaliklari'\n",
      " 'fiziksel-tip-ve-rehabilitasyon-fiziksel-tip-ve-rehabilitasyon-romatoloji'\n",
      " 'genel-cerrahi-meme-cerrahisi' 'psikoterapi'\n",
      " 'dis-hekimi-restoratif-dis-tedavisi'\n",
      " 'cocuk-sagligi-ve-hastaliklari-cocuk-romatolojisi'\n",
      " 'dil-konusma-bozuklari-b' 'radyoloji-uroradyoloji'\n",
      " 'endokrinoloji-ve-metabolizma-hastaliklari'\n",
      " 'kalp-damar-cerrahisi-damar-cerrahisi'\n",
      " 'dis-hekimi-oral-diagnoz-ve-radyoloji' 'klinik-psikolog'\n",
      " 'dil-konusma-bozuklari-b-aile-danismani' 'histoloji-ve-embriyoloji'\n",
      " 'tibbi-onkoloji' 'aile-danismani' 'dis-hekimi-endodonti' 'pedagoji'\n",
      " 'dis-hekimi-koruyucu-dis-hekimlig'\n",
      " 'genel-cerrahi-gastroenteroloji-cerrahisi'\n",
      " 'gogus-hastaliklari-alerji-ve-gogus-hastaliklari'\n",
      " 'dahiliye-ve-ic-hastaliklari-hematoloji'\n",
      " 'cocuk-sagligi-ve-hastaliklari-cocuk-gastroenterolojisi'\n",
      " 'akupunktur-biorezonans' 'klinik-psikolog-psikoloji'\n",
      " 'psikoloji-psikoonkoloji']\n"
     ]
    }
   ],
   "source": [
    "print(df['doctor_speciality'].unique())"
   ]
  },
  {
   "cell_type": "code",
   "execution_count": 41,
   "metadata": {},
   "outputs": [
    {
     "name": "stdout",
     "output_type": "stream",
     "text": [
      "['ortopedi-ve-travmatoloji' 'dermatoloji'\n",
      " 'plastik-rekonstruktif-ve-estetik-cerrahi' 'genel-cerrahi'\n",
      " 'kadin-hastaliklari-ve-dogum' 'diyetisyen'\n",
      " 'fiziksel-tip-ve-rehabilitasyon' 'beyin-ve-sinir-cerrahisi' 'uroloji'\n",
      " 'endokrinoloji-ve-metabolizma-hastaliklari' 'gastroenteroloji'\n",
      " 'goz-hastaliklari' 'medikal-estetik-sertifikali-tip-doktoru'\n",
      " 'cocuk-sagligi-ve-hastaliklari' 'cocuk-psikiyatrisi' 'psikoloji'\n",
      " 'aile-hekimligi' 'algoloji' 'acil-tip'\n",
      " 'dahiliye-ve-ic-hastaliklari-nefroloji' 'kardiyoloji' 'dis-hekimi'\n",
      " 'gogus-cerrahisi' 'tibbi-genetik' 'gogus-hastaliklari'\n",
      " 'kulak-burun-bogaz-hastaliklari' 'tibbi-farmakoloji'\n",
      " 'anestezi-ve-reanimasyon' 'veteriner'\n",
      " 'enfeksiyon-hastaliklari-ve-klinik-mikrobiyoloji' 'kalp-damar-cerrahisi'\n",
      " 'tibbi-biyokimya' 'psikiyatri' 'noroloji' 'geleneksel-ve-tamamlayici-tip'\n",
      " 'immunoloji' 'romatoloji' 'radyoloji' 'dahiliye-ve-ic-hastaliklari'\n",
      " 'akupunktur' 'tibbi-patoloji' 'cocuk-cerrahisi' 'tibbi-onkoloji'\n",
      " 'fizyoterapi' 'radyasyon-onkolojisi' 'spor-hekimligi' 'aile-danismani'\n",
      " 'dahiliye-ve-ic-hastaliklari-geriatri' 'anatomi' 'nukleer-tip'\n",
      " 'pedodonti' 'ergoterapi' 'cocuk-gelisim-uzmani' 'dil-konusma-bozuklari-b'\n",
      " 'klinik-psikolog' 'histoloji-ve-embriyoloji' 'pedagoji'\n",
      " 'dahiliye-ve-ic-hastaliklari-hematoloji' 'klinik-psikolog-psikoloji']\n"
     ]
    }
   ],
   "source": [
    "speciality_mapping = {\n",
    "    \"acil-tip\": [\"acil-tip\"],\n",
    "    \"akupunktur\": [\"akupunktur\", \"akupunktur-biorezonans\"],\n",
    "    \"algoloji\": [\"algoloji\", \"fiziksel-tip-ve-rehabilitasyon-fiziksel-tip-ve-rehabilitasyon-algoloji\", \"noroloji-noroloji-algoloji\"],\n",
    "    \"anatomi\": [\"anatomi\"],\n",
    "    \"anestezi-ve-reanimasyon\": [\"anestezi-ve-reanimasyon\", \"anestezi-ve-reanimasyon-algoloji-anestezi-ve-reanimasyon\"],\n",
    "    \"aile-hekimligi\": [\"aile-hekimligi\", \"pratisyen-hekimlik\"],\n",
    "    \"aile-danismani\": [\"aile-danismani\", \"psikoloji-aile-danismani-psikolog\", \"klinik-psikolog-psikoloji-aile-danismani-psikolog\", \"dil-konusma-bozuklari-b-aile-danismani\"],\n",
    "    \"diyetisyen\": [\"diyetisyen\"],\n",
    "    \"beyin-ve-sinir-cerrahisi\": [\"beyin-ve-sinir-cerrahisi\"],\n",
    "    \"cocuk-cerrahisi\": [\"cocuk-cerrahisi\", \"cocuk-cerrahisi-cocuk-cerrahisi-cocuk-urolojisi\", \"cocuk-cerrahisi-cocuk-cerrahisi-cocuk-urolojisi-cocuk-urolojisi-uroloji\"],\n",
    "    \"cocuk-sagligi-ve-hastaliklari\": [\"cocuk-sagligi-ve-hastaliklari\", \"cocuk-sagligi-ve-hastaliklari-cocuk-enfeksiyon-hastaliklari\", \n",
    "                                      \"cocuk-sagligi-ve-hastaliklari-cocuk-endokrinoloji\", \"cocuk-sagligi-ve-hastaliklari-cocuk-gastroenterolojisi\", \n",
    "                                      \"cocuk-sagligi-ve-hastaliklari-cocuk-genetik-hastaliklari\", \"cocuk-sagligi-ve-hastaliklari-cocuk-hematoloji\", \n",
    "                                      \"cocuk-sagligi-ve-hastaliklari-cocuk-kardiyolojisi\", \"cocuk-sagligi-ve-hastaliklari-cocuk-nefrolojisi\", \n",
    "                                      \"cocuk-sagligi-ve-hastaliklari-cocuk-norolojisi\", \"cocuk-sagligi-ve-hastaliklari-cocuk-psikiyatrisi\", \n",
    "                                      \"cocuk-sagligi-ve-hastaliklari-cocuk-romatolojisi\", \"cocuk-sagligi-ve-hastaliklari-neonatoloji\", \n",
    "                                      \"cocuk-sagligi-ve-hastaliklari-cocuk-gogus-hastaliklari\", \"cocuk-sagligi-ve-hastaliklari-cocuk-immunolojisi-ve-alerji-hastaliklari\"],\n",
    "    \"dermatoloji\": [\"dermatoloji\"],\n",
    "    \"dis-hekimi\": [\"dis-hekimi\", \"dis-hekimi-pedodonti\", \"dis-hekimi-ortodonti\", \"dis-hekimi-oral-implantoloji\", \n",
    "                   \"dis-hekimi-periodontoloji\", \"dis-hekimi-restoratif-dis-tedavisi\", \"dis-hekimi-endodonti\", \n",
    "                   \"dis-hekimi-agiz-dis-ve-cene-cerrahisi\", \"dis-hekimi-dis-protezi-uzmani\", \"dis-hekimi-oral-diagnoz-ve-radyoloji\",\n",
    "                   \"dis-hekimi-koruyucu-dis-hekimlig\"],\n",
    "    \"endokrinoloji-ve-metabolizma-hastaliklari\": [\"dahiliye-ve-ic-hastaliklari-endokrinoloji-ve-metabolizma-hastaliklari\", \"endokrinoloji-ve-metabolizma-hastaliklari\"],\n",
    "    \"enfeksiyon-hastaliklari-ve-klinik-mikrobiyoloji\": [\"enfeksiyon-hastaliklari-ve-klinik-mikrobiyoloji\"],\n",
    "    \"fiziksel-tip-ve-rehabilitasyon\": [\"fiziksel-tip-ve-rehabilitasyon\", \"fiziksel-tip-ve-rehabilitasyon-fiziksel-tip-ve-rehabilitasyon-romatoloji\"],\n",
    "    \"genel-cerrahi\": [\"genel-cerrahi\", \"genel-cerrahi-cerrahi-onkoloji\", \"genel-cerrahi-gastroenteroloji-cerrahisi\", \"genel-cerrahi-endokrin-cerrahisi\", \"genel-cerrahi-meme-cerrahisi\", \"genel-cerrahi-proktoloji\"],\n",
    "    \"gogus-cerrahisi\": [\"gogus-cerrahisi\"],\n",
    "    \"gogus-hastaliklari\": [\"gogus-hastaliklari\", \"gogus-hastaliklari-alerji-ve-gogus-hastaliklari\"],\n",
    "    \"gastroenteroloji\": [\"dahiliye-ve-ic-hastaliklari-gastroenteroloji\", \"gastroenteroloji\"],\n",
    "    \"histoloji-ve-embriyoloji\": [\"histoloji-ve-embriyoloji\"],\n",
    "    \"immunoloji\": [\"dahiliye-ve-ic-hastaliklari-immunoloji-ve-alerji-hastaliklari\", \"dahiliye-ve-ic-hastaliklari-immunoloji\"],\n",
    "    \"kadin-hastaliklari-ve-dogum\": [\"kadin-hastaliklari-ve-dogum\", \"kadin-hastaliklari-ve-dogum-jinekolojik-onkoloji\", \n",
    "                                    \"kadin-hastaliklari-ve-dogum-ureme-endokrinolojisi-ve-infertilite\", \"kadin-hastaliklari-ve-dogum-perinatoloji\"],\n",
    "    \"kardiyoloji\": [\"kardiyoloji\"],\n",
    "    \"kalp-damar-cerrahisi\": [\"kalp-damar-cerrahisi\", \"kalp-damar-cerrahisi-damar-cerrahisi\"],\n",
    "    \"kulak-burun-bogaz-hastaliklari\": [\"kulak-burun-bogaz-hastaliklari\"],\n",
    "    \"noroloji\": [\"noroloji\", \"noroloji-klinik-norofizyoloji\"],\n",
    "    \"nukleer-tip\": [\"nukleer-tip\"],\n",
    "    \"plastik-rekonstruktif-ve-estetik-cerrahi\": [\"plastik-rekonstruktif-ve-estetik-cerrahi\", \"ortopedi-ve-travmatoloji-el-cerrahisi-ve-mikrocerrahi\",\n",
    "                                                 \"plastik-rekonstruktif-ve-estetik-cerrahi-el-cerrahisi-ve-mikrocerrahi-plastik\"],\n",
    "    \"psikiyatri\": [\"psikiyatri\"],\n",
    "    \"psikoloji\": [\"psikoloji\", \"psikolojik-danisman\", \"psikolojik-danisman-psikoloji\", \"psikoterapi\", \"psikoloji-psikoonkoloji\"],\n",
    "    \"radyoloji\": [\"radyoloji\", \"radyoloji-girisimsel-radyoloji\", \"radyoloji-uroradyoloji\"],\n",
    "    \"romatoloji\": [\"romatoloji-dahiliye-ve-ic-hastaliklari\"],\n",
    "    \"spor-hekimligi\": [\"spor-hekimligi\"],\n",
    "    \"tibbi-genetik\": [\"tibbi-genetik\"],\n",
    "    \"tibbi-onkoloji\": [\"tibbi-onkoloji\", \"tibbi-onkoloji-dahiliye-ve-ic-hastaliklari\"],\n",
    "    \"tibbi-biyokimya\": [\"tibbi-biyokimya\"],\n",
    "    \"tibbi-patoloji\": [\"tibbi-patoloji\"],\n",
    "    \"uroloji\": [\"uroloji\", \"uroloji-androloji\"],\n",
    "    \"veteriner\": [\"veteriner\"]\n",
    "}\n",
    "\n",
    "for key in speciality_mapping:\n",
    "    df.loc[df['doctor_speciality'].isin(speciality_mapping[key]), 'doctor_speciality'] = key\n",
    "\n",
    "print(df['doctor_speciality'].unique())"
   ]
  },
  {
   "cell_type": "code",
   "execution_count": 42,
   "metadata": {},
   "outputs": [
    {
     "name": "stdout",
     "output_type": "stream",
     "text": [
      "['dr-ogr-uyesi' 'uzm-dr' 'op-dr' 'dyt' 'yrd-doc-dr' 'doc-dr' 'prof-dr'\n",
      " 'dr' 'uzm-kl-psk' 'dt' 'veteriner-hekim' 'uzm-psk' 'psk' 'fzt' 'psk-dan'\n",
      " 'ergoterapist' 'cocuk-gelisim-uzmani' 'dil-ve-konusma-terapisti'\n",
      " 'pedagog' 'Dr. Dyt. ']\n"
     ]
    }
   ],
   "source": [
    "title_mapping = {\n",
    "    \"dr-ogr-uyesi\": [\"Dr. Öğr. Üyesi\", \"Dr.Öğr.Üyesi\", \"Dr. Öğr. Üyesi Dt.\"],\n",
    "    \"uzm-dr\": [\"Uzm. Dr.\", \"Uzm. Dr. Dt.\"],\n",
    "    \"op-dr\": [\"Op. Dr.\"],\n",
    "    \"dyt\": [\"Dyt.\", \"Dr. Dyt.\", \"Uzm. Dyt.\"],\n",
    "    \"yrd-doc-dr\": [\"Yrd. Doç. Dr.\"],\n",
    "    \"doc-dr\": [\"Doç. Dr.\", \"Doç. Dr. Dt.\", \"Doç. Dr. Psk. Dan\"],\n",
    "    \"prof-dr\": [\"Prof. Dr.\", \"Prof. Dr. Dt.\"],\n",
    "    \"dr\": [\"Dr.\"],\n",
    "    \"uzm-kl-psk\": [\"Uzm. Kl. Psk.\"],\n",
    "    \"dt\": [\"Dt.\", \"Dr. Dt.\", \"Uzm. Dt.\"],\n",
    "    \"veteriner-hekim\": [\"Veteriner Hekim\", \"Vet.\"],\n",
    "    \"uzm-psk\": [\"Uzm. Psk.\", \"Uzm. Psk. Dan.\"],\n",
    "    \"psk\": [\"Psk.\", \"Psikoterapist\", \"Klinik Psikolog \", \"Dr. Psk.\", \"Dr. Psk. Dan.\"],\n",
    "    \"psk-dan\": [\"Psk. Dan.\", \"Aile Danışmanı\"],\n",
    "    \"fzt\": [\"Fzt.\"],\n",
    "    \"ergoterapist\": [\"Ergoterapist\"],\n",
    "    \"cocuk-gelisim-uzmani\": [\"Çocuk Gelişim Uzmanı\"],\n",
    "    \"dil-ve-konusma-terapisti\": [\"Dil ve Konuşma Terapisti\"],\n",
    "    \"pedagog\": [\"Pedagog\"]\n",
    "}\n",
    "\n",
    "for key in title_mapping:\n",
    "    df.loc[df['doctor_title'].isin(title_mapping[key]), 'doctor_title'] = key\n",
    "\n",
    "print(df['doctor_title'].unique())"
   ]
  },
  {
   "cell_type": "code",
   "execution_count": 43,
   "metadata": {},
   "outputs": [
    {
     "name": "stdout",
     "output_type": "stream",
     "text": [
      "['dr-ogr-uyesi' 'uzman-doktor' 'diyetisyen' 'docent' 'profesor' 'doktor'\n",
      " 'uzman-psikolog' 'dis-hekimi' 'veteriner' 'psikolog' 'fizyoterapist'\n",
      " 'ergoterapist' 'cocuk-gelisim-uzmani' 'dil-ve-konusma-terapisti'\n",
      " 'pedagog' 'Dr. Dyt. ']\n"
     ]
    }
   ],
   "source": [
    "title_mapping = {\n",
    "    \"profesor\": [\"prof-dr\"],\n",
    "    \"docent\": [\"doc-dr\"],\n",
    "    \"dr-ogr-uyesi\": [\"dr-ogr-uyesi\", \"yrd-doc-dr\"],\n",
    "    \"uzman-doktor\": [\"uzm-dr\", \"op-dr\"],\n",
    "    \"diyetisyen\": [\"dyt\"],\n",
    "    \"dr-diyetisyen\": [\"Dr. Dyt.\"],\n",
    "    \"psikolog\": [\"psk\", \"psk-dan\"],\n",
    "    \"uzman-psikolog\": [\"uzm-psk\", \"uzm-kl-psk\"],\n",
    "    \"doktor\": [\"dr\"],\n",
    "    \"dis-hekimi\": [\"dt\"],\n",
    "    \"fizyoterapist\": [\"fzt\"],\n",
    "    \"veteriner\": [\"veteriner-hekim\"],\n",
    "    \"ergoterapist\": [\"ergoterapist\"],\n",
    "    \"cocuk-gelisim-uzmani\": [\"cocuk-gelisim-uzmani\"],\n",
    "    \"dil-ve-konusma-terapisti\": [\"dil-ve-konusma-terapisti\"],\n",
    "    \"pedagog\": [\"pedagog\"]\n",
    "}\n",
    "\n",
    "for key in title_mapping:\n",
    "    df.loc[df['doctor_title'].isin(title_mapping[key]), 'doctor_title'] = key\n",
    "\n",
    "# Benzersiz unvanları görüntülemek için:\n",
    "print(df['doctor_title'].unique())"
   ]
  },
  {
   "cell_type": "code",
   "execution_count": 45,
   "metadata": {},
   "outputs": [
    {
     "name": "stdout",
     "output_type": "stream",
     "text": [
      "['ortopedi-ve-travmatoloji' 'dermatoloji'\n",
      " 'plastik-rekonstruktif-ve-estetik-cerrahi' 'genel-cerrahi'\n",
      " 'kadin-hastaliklari-ve-dogum' 'diyetisyen'\n",
      " 'fiziksel-tip-ve-rehabilitasyon' 'beyin-ve-sinir-cerrahisi' 'uroloji'\n",
      " 'endokrinoloji-ve-metabolizma-hastaliklari' 'gastroenteroloji'\n",
      " 'goz-hastaliklari' 'medikal-estetik-sertifikali-tip-doktoru'\n",
      " 'cocuk-sagligi-ve-hastaliklari' 'cocuk-psikiyatrisi' 'psikoloji'\n",
      " 'aile-hekimligi' 'algoloji' 'acil-tip'\n",
      " 'dahiliye-ve-ic-hastaliklari-nefroloji' 'kardiyoloji' 'dis-hekimi'\n",
      " 'gogus-cerrahisi' 'tibbi-genetik' 'gogus-hastaliklari'\n",
      " 'kulak-burun-bogaz-hastaliklari' 'tibbi-farmakoloji'\n",
      " 'anestezi-ve-reanimasyon' 'veteriner'\n",
      " 'enfeksiyon-hastaliklari-ve-klinik-mikrobiyoloji' 'kalp-damar-cerrahisi'\n",
      " 'tibbi-biyokimya' 'psikiyatri' 'noroloji' 'geleneksel-ve-tamamlayici-tip'\n",
      " 'immunoloji' 'romatoloji' 'radyoloji' 'dahiliye-ve-ic-hastaliklari'\n",
      " 'akupunktur' 'tibbi-patoloji' 'cocuk-cerrahisi' 'tibbi-onkoloji'\n",
      " 'fizyoterapi' 'radyasyon-onkolojisi' 'spor-hekimligi' 'aile-danismani'\n",
      " 'dahiliye-ve-ic-hastaliklari-geriatri' 'anatomi' 'nukleer-tip'\n",
      " 'pedodonti' 'ergoterapi' 'cocuk-gelisim-uzmani' 'dil-konusma-bozuklari-b'\n",
      " 'klinik-psikolog' 'histoloji-ve-embriyoloji' 'pedagoji'\n",
      " 'dahiliye-ve-ic-hastaliklari-hematoloji' 'klinik-psikolog-psikoloji']\n"
     ]
    }
   ],
   "source": [
    "specialty_mapping = {\n",
    "    \"cerrahi\": [\n",
    "        \"ortopedi-ve-travmatoloji\", \"genel-cerrahi\", \"beyin-ve-sinir-cerrahisi\",\n",
    "        \"gogus-cerrahisi\", \"kalp-damar-cerrahisi\", \"cocuk-cerrahisi\", \n",
    "        \"plastik-rekonstruktif-ve-estetik-cerrahi\", \"uroloji\"\n",
    "    ],\n",
    "    \"kadın-dogum\": [\n",
    "        \"kadin-hastaliklari-ve-dogum\", \"cocuk-sagligi-ve-hastaliklari\", \n",
    "        \"cocuk-psikiyatrisi\", \"aile-hekimligi\"\n",
    "    ],\n",
    "    \"dahiliye\": [\n",
    "        \"dahiliye-ve-ic-hastaliklari\", \"dahiliye-ve-ic-hastaliklari-nefroloji\",\n",
    "        \"endokrinoloji-ve-metabolizma-hastaliklari\", \"gastroenteroloji\", \n",
    "        \"immunoloji\", \"romatoloji\", \"dahiliye-ve-ic-hastaliklari-geriatri\",\n",
    "        \"dahiliye-ve-ic-hastaliklari-hematoloji\"\n",
    "    ],\n",
    "    \"psikiyatri-ve-psikoloji\": [\n",
    "        \"psikiyatri\", \"psikoloji\", \"klinik-psikolog\", \"klinik-psikolog-psikoloji\",\n",
    "        \"aile-danismani\", \"pedagoji\"\n",
    "    ],\n",
    "    \"diş-hekimliği\": [\"dis-hekimi\", \"pedodonti\"],\n",
    "    \"dermatoloji\": [\"dermatoloji\", \"medikal-estetik-sertifikali-tip-doktoru\"],\n",
    "    \"göz\": [\"goz-hastaliklari\"],\n",
    "    \"radyoloji-ve-onkoloji\": [\"radyoloji\", \"radyasyon-onkolojisi\", \"tibbi-onkoloji\", \"nukleer-tip\"],\n",
    "    \"fizik-tedavi-ve-rehabilitasyon\": [\"fiziksel-tip-ve-rehabilitasyon\", \"fizyoterapi\", \"ergoterapi\"],\n",
    "    \"spor-hekimliği\": [\"spor-hekimligi\"],\n",
    "    \"anestezi-ve-algoloji\": [\"anestezi-ve-reanimasyon\", \"algoloji\"],\n",
    "    \"genetik\": [\"tibbi-genetik\"],\n",
    "    \"farmakoloji\": [\"tibbi-farmakoloji\"],\n",
    "    \"biyokimya\": [\"tibbi-biyokimya\"],\n",
    "    \"patoloji\": [\"tibbi-patoloji\"],\n",
    "    \"enfeksiyon-ve-immunoloji\": [\"enfeksiyon-hastaliklari-ve-klinik-mikrobiyoloji\", \"immunoloji\"],\n",
    "    \"geleneksel-tamamlayici-tip\": [\"geleneksel-ve-tamamlayici-tip\", \"akupunktur\"],\n",
    "    \"çocuk-gelişimi\": [\"cocuk-gelisim-uzmani\"],\n",
    "    \"konuşma-terapisi\": [\"dil-konusma-bozuklari-b\"],\n",
    "    \"anatomi-ve-histoloji\": [\"anatomi\", \"histoloji-ve-embriyoloji\"],\n",
    "    \"veterinerlik\": [\"veteriner\"],\n",
    "    \"kardiyoloji\": [\"kardiyoloji\"],\n",
    "    \"göğüs-hastaliklari\": [\"gogus-hastaliklari\"],\n",
    "    \"kulak-burun-bogaz\": [\"kulak-burun-bogaz-hastaliklari\"]\n",
    "}\n",
    "\n",
    "for key in speciality_mapping:\n",
    "    df.loc[df['doctor_speciality'].isin(speciality_mapping[key]), 'doctor_speciality'] = key\n",
    "\n",
    "print(df['doctor_speciality'].unique())"
   ]
  },
  {
   "cell_type": "code",
   "execution_count": null,
   "metadata": {},
   "outputs": [],
   "source": []
  }
 ],
 "metadata": {
  "kernelspec": {
   "display_name": "Python 3",
   "language": "python",
   "name": "python3"
  },
  "language_info": {
   "codemirror_mode": {
    "name": "ipython",
    "version": 3
   },
   "file_extension": ".py",
   "mimetype": "text/x-python",
   "name": "python",
   "nbconvert_exporter": "python",
   "pygments_lexer": "ipython3",
   "version": "3.9.6"
  }
 },
 "nbformat": 4,
 "nbformat_minor": 2
}
